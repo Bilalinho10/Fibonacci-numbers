{
  "nbformat": 4,
  "nbformat_minor": 0,
  "metadata": {
    "colab": {
      "name": "Fibonacci numbers.ipynb",
      "provenance": [],
      "collapsed_sections": []
    },
    "kernelspec": {
      "name": "python3",
      "display_name": "Python 3"
    },
    "language_info": {
      "name": "python"
    }
  },
  "cells": [
    {
      "cell_type": "code",
      "execution_count": null,
      "metadata": {
        "colab": {
          "base_uri": "https://localhost:8080/"
        },
        "id": "ryYDVPdIwRaj",
        "outputId": "8ecfd0c3-8a85-4ef7-b568-65cc504ee23c"
      },
      "outputs": [
        {
          "output_type": "stream",
          "name": "stdout",
          "text": [
            "[1, 1, 2, 3, 5, 8, 13, 21, 34, 55, 89, 144, 233, 377, 610, 987, 1597, 2584, 4181, 6765, 10946, 17711, 28657, 46368, 75025, 121393, 196418, 317811, 514229, 832040, 1346269, 2178309, 3524578, 5702887, 9227465, 14930352, 24157817, 39088169, 63245986, 102334155, 165580141, 267914296, 433494437, 701408733, 1134903170, 1836311903, 2971215073, 4807526976, 7778742049, 12586269025, 20365011074, 32951280099, 53316291173, 86267571272, 139583862445]\n"
          ]
        }
      ],
      "source": [
        "fibonacci = [1, 1]\n",
        "summary = 0\n",
        "i = 1\n",
        "while len(fibonacci) < 55 :\n",
        "    summary = fibonacci[i] + fibonacci[i-1]\n",
        "    fibonacci.append(summary)\n",
        "    i += 1\n",
        "print(fibonacci)\n"
      ]
    },
    {
      "cell_type": "code",
      "source": [
        ""
      ],
      "metadata": {
        "id": "oTBMWWnQydAF"
      },
      "execution_count": null,
      "outputs": []
    }
  ]
}